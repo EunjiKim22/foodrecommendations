{
 "cells": [
  {
   "cell_type": "code",
   "execution_count": 1,
   "source": [
    "import pandas as pd\r\n",
    "import numpy as np\r\n",
    "from pathlib import Path\r\n",
    "import xlrd\r\n",
    "import xlsxwriter\r\n",
    "\r\n",
    "df1 = pd.read_excel('./number.xlsx')\r\n",
    "df2 = df1.transpose()\r\n",
    "#print(type(df2))\r\n",
    "#df.to_excel('submit4.xlsx', index = False)\r\n",
    "\r\n",
    "df3 = pd.read_excel('./cuisine1.xlsx')\r\n",
    "#df\r\n",
    "df3=df3.drop(['cuisine'], axis=1)\r\n",
    "#df3\r\n",
    "\r\n",
    "train = pd.DataFrame()\r\n",
    "\r\n",
    "for i in range(196):\r\n",
    "    j = df3.iloc[i]\r\n",
    "    #print(j)\r\n",
    "    t = df2.iloc[0]\r\n",
    "    #print(t)\r\n",
    "    k = pd.DataFrame(t.isin(j))\r\n",
    "    train = train.append(k.transpose())\r\n",
    "    #print(train)\r\n",
    "    train.to_excel(\"output.xlsx\")\r\n",
    "#df.to_excel('submit4.xlsx', index = False)"
   ],
   "outputs": [
    {
     "output_type": "error",
     "ename": "IndexError",
     "evalue": "single positional indexer is out-of-bounds",
     "traceback": [
      "\u001b[1;31m---------------------------------------------------------------------------\u001b[0m",
      "\u001b[1;31mIndexError\u001b[0m                                Traceback (most recent call last)",
      "\u001b[1;32m<ipython-input-1-29f7b8366301>\u001b[0m in \u001b[0;36m<module>\u001b[1;34m\u001b[0m\n\u001b[0;32m     19\u001b[0m \u001b[1;33m\u001b[0m\u001b[0m\n\u001b[0;32m     20\u001b[0m \u001b[1;32mfor\u001b[0m \u001b[0mi\u001b[0m \u001b[1;32min\u001b[0m \u001b[0mrange\u001b[0m\u001b[1;33m(\u001b[0m\u001b[1;36m196\u001b[0m\u001b[1;33m)\u001b[0m\u001b[1;33m:\u001b[0m\u001b[1;33m\u001b[0m\u001b[1;33m\u001b[0m\u001b[0m\n\u001b[1;32m---> 21\u001b[1;33m     \u001b[0mj\u001b[0m \u001b[1;33m=\u001b[0m \u001b[0mdf3\u001b[0m\u001b[1;33m.\u001b[0m\u001b[0miloc\u001b[0m\u001b[1;33m[\u001b[0m\u001b[0mi\u001b[0m\u001b[1;33m]\u001b[0m\u001b[1;33m\u001b[0m\u001b[1;33m\u001b[0m\u001b[0m\n\u001b[0m\u001b[0;32m     22\u001b[0m     \u001b[1;31m#print(j)\u001b[0m\u001b[1;33m\u001b[0m\u001b[1;33m\u001b[0m\u001b[1;33m\u001b[0m\u001b[0m\n\u001b[0;32m     23\u001b[0m     \u001b[0mt\u001b[0m \u001b[1;33m=\u001b[0m \u001b[0mdf2\u001b[0m\u001b[1;33m.\u001b[0m\u001b[0miloc\u001b[0m\u001b[1;33m[\u001b[0m\u001b[1;36m0\u001b[0m\u001b[1;33m]\u001b[0m\u001b[1;33m\u001b[0m\u001b[1;33m\u001b[0m\u001b[0m\n",
      "\u001b[1;32mC:\\ProgramData\\Anaconda3\\envs\\testAI\\lib\\site-packages\\pandas\\core\\indexing.py\u001b[0m in \u001b[0;36m__getitem__\u001b[1;34m(self, key)\u001b[0m\n\u001b[0;32m    893\u001b[0m \u001b[1;33m\u001b[0m\u001b[0m\n\u001b[0;32m    894\u001b[0m             \u001b[0mmaybe_callable\u001b[0m \u001b[1;33m=\u001b[0m \u001b[0mcom\u001b[0m\u001b[1;33m.\u001b[0m\u001b[0mapply_if_callable\u001b[0m\u001b[1;33m(\u001b[0m\u001b[0mkey\u001b[0m\u001b[1;33m,\u001b[0m \u001b[0mself\u001b[0m\u001b[1;33m.\u001b[0m\u001b[0mobj\u001b[0m\u001b[1;33m)\u001b[0m\u001b[1;33m\u001b[0m\u001b[1;33m\u001b[0m\u001b[0m\n\u001b[1;32m--> 895\u001b[1;33m             \u001b[1;32mreturn\u001b[0m \u001b[0mself\u001b[0m\u001b[1;33m.\u001b[0m\u001b[0m_getitem_axis\u001b[0m\u001b[1;33m(\u001b[0m\u001b[0mmaybe_callable\u001b[0m\u001b[1;33m,\u001b[0m \u001b[0maxis\u001b[0m\u001b[1;33m=\u001b[0m\u001b[0maxis\u001b[0m\u001b[1;33m)\u001b[0m\u001b[1;33m\u001b[0m\u001b[1;33m\u001b[0m\u001b[0m\n\u001b[0m\u001b[0;32m    896\u001b[0m \u001b[1;33m\u001b[0m\u001b[0m\n\u001b[0;32m    897\u001b[0m     \u001b[1;32mdef\u001b[0m \u001b[0m_is_scalar_access\u001b[0m\u001b[1;33m(\u001b[0m\u001b[0mself\u001b[0m\u001b[1;33m,\u001b[0m \u001b[0mkey\u001b[0m\u001b[1;33m:\u001b[0m \u001b[0mTuple\u001b[0m\u001b[1;33m)\u001b[0m\u001b[1;33m:\u001b[0m\u001b[1;33m\u001b[0m\u001b[1;33m\u001b[0m\u001b[0m\n",
      "\u001b[1;32mC:\\ProgramData\\Anaconda3\\envs\\testAI\\lib\\site-packages\\pandas\\core\\indexing.py\u001b[0m in \u001b[0;36m_getitem_axis\u001b[1;34m(self, key, axis)\u001b[0m\n\u001b[0;32m   1499\u001b[0m \u001b[1;33m\u001b[0m\u001b[0m\n\u001b[0;32m   1500\u001b[0m             \u001b[1;31m# validate the location\u001b[0m\u001b[1;33m\u001b[0m\u001b[1;33m\u001b[0m\u001b[1;33m\u001b[0m\u001b[0m\n\u001b[1;32m-> 1501\u001b[1;33m             \u001b[0mself\u001b[0m\u001b[1;33m.\u001b[0m\u001b[0m_validate_integer\u001b[0m\u001b[1;33m(\u001b[0m\u001b[0mkey\u001b[0m\u001b[1;33m,\u001b[0m \u001b[0maxis\u001b[0m\u001b[1;33m)\u001b[0m\u001b[1;33m\u001b[0m\u001b[1;33m\u001b[0m\u001b[0m\n\u001b[0m\u001b[0;32m   1502\u001b[0m \u001b[1;33m\u001b[0m\u001b[0m\n\u001b[0;32m   1503\u001b[0m             \u001b[1;32mreturn\u001b[0m \u001b[0mself\u001b[0m\u001b[1;33m.\u001b[0m\u001b[0mobj\u001b[0m\u001b[1;33m.\u001b[0m\u001b[0m_ixs\u001b[0m\u001b[1;33m(\u001b[0m\u001b[0mkey\u001b[0m\u001b[1;33m,\u001b[0m \u001b[0maxis\u001b[0m\u001b[1;33m=\u001b[0m\u001b[0maxis\u001b[0m\u001b[1;33m)\u001b[0m\u001b[1;33m\u001b[0m\u001b[1;33m\u001b[0m\u001b[0m\n",
      "\u001b[1;32mC:\\ProgramData\\Anaconda3\\envs\\testAI\\lib\\site-packages\\pandas\\core\\indexing.py\u001b[0m in \u001b[0;36m_validate_integer\u001b[1;34m(self, key, axis)\u001b[0m\n\u001b[0;32m   1442\u001b[0m         \u001b[0mlen_axis\u001b[0m \u001b[1;33m=\u001b[0m \u001b[0mlen\u001b[0m\u001b[1;33m(\u001b[0m\u001b[0mself\u001b[0m\u001b[1;33m.\u001b[0m\u001b[0mobj\u001b[0m\u001b[1;33m.\u001b[0m\u001b[0m_get_axis\u001b[0m\u001b[1;33m(\u001b[0m\u001b[0maxis\u001b[0m\u001b[1;33m)\u001b[0m\u001b[1;33m)\u001b[0m\u001b[1;33m\u001b[0m\u001b[1;33m\u001b[0m\u001b[0m\n\u001b[0;32m   1443\u001b[0m         \u001b[1;32mif\u001b[0m \u001b[0mkey\u001b[0m \u001b[1;33m>=\u001b[0m \u001b[0mlen_axis\u001b[0m \u001b[1;32mor\u001b[0m \u001b[0mkey\u001b[0m \u001b[1;33m<\u001b[0m \u001b[1;33m-\u001b[0m\u001b[0mlen_axis\u001b[0m\u001b[1;33m:\u001b[0m\u001b[1;33m\u001b[0m\u001b[1;33m\u001b[0m\u001b[0m\n\u001b[1;32m-> 1444\u001b[1;33m             \u001b[1;32mraise\u001b[0m \u001b[0mIndexError\u001b[0m\u001b[1;33m(\u001b[0m\u001b[1;34m\"single positional indexer is out-of-bounds\"\u001b[0m\u001b[1;33m)\u001b[0m\u001b[1;33m\u001b[0m\u001b[1;33m\u001b[0m\u001b[0m\n\u001b[0m\u001b[0;32m   1445\u001b[0m \u001b[1;33m\u001b[0m\u001b[0m\n\u001b[0;32m   1446\u001b[0m     \u001b[1;31m# -------------------------------------------------------------------\u001b[0m\u001b[1;33m\u001b[0m\u001b[1;33m\u001b[0m\u001b[1;33m\u001b[0m\u001b[0m\n",
      "\u001b[1;31mIndexError\u001b[0m: single positional indexer is out-of-bounds"
     ]
    }
   ],
   "metadata": {}
  },
  {
   "cell_type": "code",
   "execution_count": 6,
   "source": [
    "import pandas as pd\r\n",
    "\r\n",
    "df1 = pd.read_excel('./number.xlsx')\r\n",
    "df2 = df1.transpose()\r\n",
    "df3 = pd.read_excel('./cuisine1.xlsx')\r\n",
    "df4 = pd.read_excel('./train_output2.xlsx')\r\n",
    "\r\n",
    "#df4.rename(columns= {'Unnamed: 0':'cuisine'}, inplace = True)\r\n",
    "#df4['cuisine']=df3['cuisine']\r\n",
    "#df4 = df4.drop(['Unnamed: 0'], axis=1)\r\n",
    "#print(df4)\r\n",
    "'''\r\n",
    "for i in range(250):\r\n",
    "    df4[i] = df4[i].astype(int)\r\n",
    "'''\r\n",
    "#user추가 열변경\r\n",
    "df4['user']=1\r\n",
    "df4.head(196)\r\n",
    "\r\n",
    "col1=df4.columns[-1:].to_list()\r\n",
    "col2=df4.columns[:-1].to_list()\r\n",
    "new_col=col1+col2\r\n",
    "df=df4[new_col]\r\n",
    "\r\n",
    "print(df)\r\n",
    "#df2.to_excel('Ing_No.xlsx')\r\n",
    "df.to_excel(\"train_data.xlsx\")"
   ],
   "outputs": [
    {
     "output_type": "stream",
     "name": "stdout",
     "text": [
      "     user  0  1  2  3  4  5  6  7  8  ...  241  242  243  244  245  246  247  \\\n",
      "0       1  1  1  1  1  1  1  1  1  1  ...    0    0    0    0    0    0    0   \n",
      "1       1  0  1  1  1  0  1  0  1  1  ...    0    0    0    0    0    0    0   \n",
      "2       1  1  1  1  1  1  1  1  0  1  ...    0    0    0    0    0    0    0   \n",
      "3       1  0  1  1  1  1  1  1  0  1  ...    0    0    0    0    0    0    0   \n",
      "4       1  0  1  1  1  0  1  0  0  1  ...    0    0    0    0    0    0    0   \n",
      "..    ... .. .. .. .. .. .. .. .. ..  ...  ...  ...  ...  ...  ...  ...  ...   \n",
      "190     1  0  0  1  0  1  1  0  0  0  ...    0    0    0    0    0    0    0   \n",
      "191     1  0  0  1  0  1  0  0  0  0  ...    0    0    0    0    0    0    0   \n",
      "192     1  0  0  1  0  1  0  0  0  0  ...    0    0    0    1    0    0    1   \n",
      "193     1  0  0  1  0  1  1  0  0  0  ...    0    0    0    0    0    0    0   \n",
      "194     1  0  0  0  0  1  1  0  0  0  ...    0    0    0    0    0    0    0   \n",
      "\n",
      "     248  249          cuisine  \n",
      "0      0    0     cream pasta1  \n",
      "1      0    0     cream pasta2  \n",
      "2      0    0     cream pasta3  \n",
      "3      0    0     cream pasta4  \n",
      "4      0    0     cream pasta5  \n",
      "..   ...  ...              ...  \n",
      "190    0    0  cucumber sobak1  \n",
      "191    0    0  cucumber sobak2  \n",
      "192    1    0  cucumber sobak3  \n",
      "193    0    0  cucumber sobak4  \n",
      "194    0    1  cucumber sobak5  \n",
      "\n",
      "[195 rows x 252 columns]\n"
     ]
    }
   ],
   "metadata": {}
  },
  {
   "cell_type": "code",
   "execution_count": null,
   "source": [
    "import pandas as pd\r\n",
    "import numpy as np\r\n",
    "from pathlib import Path\r\n",
    "import xlrd\r\n",
    "import xlsxwriter\r\n",
    "import pandas as pd\r\n",
    "\r\n",
    "df1 = pd.read_excel('./test.xlsx')\r\n",
    "#df2 = df1.transpose()\r\n",
    "#df3 = pd.read_excel('./output.xlsx')\r\n",
    "df4 = pd.read_excel('./test_output2.xlsx')\r\n",
    "\r\n",
    "df4.rename(columns= {'Unnamed: 0':'user'}, inplace = True)\r\n",
    "result = pd.concat([df4, df1], axis = 1)\r\n",
    "result.to_excel('test1.xlsx', index = False)"
   ],
   "outputs": [],
   "metadata": {}
  },
  {
   "cell_type": "code",
   "execution_count": null,
   "source": [
    "import pandas as pd\r\n",
    "\r\n",
    "df1 = pd.read_excel('./number.xlsx')\r\n",
    "df2 = df1.transpose()\r\n",
    "df3 = pd.read_excel('./cuisine1.xlsx')\r\n",
    "df4 = pd.read_excel('./train_output2.xlsx')\r\n",
    "\r\n",
    "#df4.rename(columns= {'Unnamed: 0':'cuisine'}, inplace = True)\r\n",
    "#df4['cuisine']=df3['cuisine']\r\n",
    "#df4 = df4.drop(['Unnamed: 0'], axis=1)\r\n",
    "#print(df4)\r\n",
    "'''\r\n",
    "for i in range(250):\r\n",
    "    df4[i] = df4[i].astype(int)\r\n",
    "'''\r\n",
    "#user추가 열변경\r\n",
    "df4['user']=1\r\n",
    "df4.head(196)\r\n",
    "\r\n",
    "col1=df4.columns[-1:].to_list()\r\n",
    "col2=df4.columns[:-1].to_list()\r\n",
    "new_col=col1+col2\r\n",
    "df=df4[new_col]\r\n",
    "\r\n",
    "print(df)\r\n",
    "#df2.to_excel('Ing_No.xlsx')\r\n",
    "df.to_excel(\"test_data.xlsx\")"
   ],
   "outputs": [],
   "metadata": {}
  },
  {
   "cell_type": "code",
   "execution_count": 8,
   "source": [
    "import pandas as pd\r\n",
    "import numpy as np\r\n",
    "from pathlib import Path\r\n",
    "import xlrd\r\n",
    "import xlsxwriter\r\n",
    "\r\n",
    "df1 = pd.read_excel('./cuisine1.xlsx')\r\n",
    "#print(df1)\r\n",
    "df1['user']=1\r\n",
    "df1.head(196)\r\n",
    "col1= df1.columns[-1:].to_list()\r\n",
    "col2= df1.columns[:-1].to_list()\r\n",
    "new_col=col1+col2\r\n",
    "df=df1[new_col]\r\n",
    "\r\n",
    "df.to_csv(\"cuisine.csv\")"
   ],
   "outputs": [],
   "metadata": {}
  },
  {
   "cell_type": "code",
   "execution_count": 11,
   "metadata": {},
   "outputs": [],
   "source": [
    "import pandas as pd\n",
    "import numpy as np\n",
    "from pathlib import Path\n",
    "import xlrd\n",
    "import xlsxwriter\n",
    "\n",
    "df1 = pd.read_excel('./train_data.xlsx')\n",
    "df2 = pd.read_excel('./cuisine.xlsx')\n",
    "\n",
    "df1.rename(columns= {'Unnamed: 0':'cuisineid'}, inplace = True)\n",
    "\n",
    "df1.to_excel('./train_data.xlsx')\n"
   ]
  },
  {
   "cell_type": "code",
   "execution_count": null,
   "metadata": {},
   "outputs": [],
   "source": []
  }
 ],
 "metadata": {
  "orig_nbformat": 4,
  "language_info": {
   "name": "python",
   "version": "3.8.8",
   "mimetype": "text/x-python",
   "codemirror_mode": {
    "name": "ipython",
    "version": 3
   },
   "pygments_lexer": "ipython3",
   "nbconvert_exporter": "python",
   "file_extension": ".py"
  },
  "kernelspec": {
   "name": "python3",
   "display_name": "Python 3.8.8 64-bit ('food21': conda)"
  },
  "interpreter": {
   "hash": "15c5773711d1d3c78d6025d9cd9544ee54f7145b5a24fc1a3d4f4cb8f3123b3b"
  }
 },
 "nbformat": 4,
 "nbformat_minor": 2
}