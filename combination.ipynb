{
 "cells": [
  {
   "cell_type": "code",
   "execution_count": 1,
   "source": [
    "import pandas as pd\r\n",
    "import numpy as np\r\n",
    "from pathlib import Path\r\n",
    "import xlrd\r\n",
    "import xlsxwriter\r\n",
    "\r\n",
    "df1 = pd.read_excel('./number.xlsx')\r\n",
    "df2 = df1.transpose()\r\n",
    "#print(type(df2))\r\n",
    "\r\n",
    "#df.to_excel('submit4.xlsx', index = False)\r\n",
    "\r\n",
    "df3 = pd.read_excel('./cuisine1.xlsx')\r\n",
    "#df\r\n",
    "df3=df3.drop(['cuisine'], axis=1)\r\n",
    "#df3\r\n",
    "\r\n",
    "\r\n",
    "\r\n",
    "train = pd.DataFrame()\r\n",
    "\r\n",
    "for i in range(196):\r\n",
    "    j = df3.iloc[i]\r\n",
    "    #print(j)\r\n",
    "    t = df2.iloc[0]\r\n",
    "    #print(t)\r\n",
    "    k = pd.DataFrame(t.isin(j))\r\n",
    "    train = train.append(k.transpose())\r\n",
    "    #print(train)\r\n",
    "    train.to_excel(\"output.xlsx\") \r\n"
   ],
   "outputs": [
    {
     "output_type": "error",
     "ename": "IndexError",
     "evalue": "single positional indexer is out-of-bounds",
     "traceback": [
      "\u001b[1;31m---------------------------------------------------------------------------\u001b[0m",
      "\u001b[1;31mIndexError\u001b[0m                                Traceback (most recent call last)",
      "\u001b[1;32m<ipython-input-1-29f7b8366301>\u001b[0m in \u001b[0;36m<module>\u001b[1;34m\u001b[0m\n\u001b[0;32m     19\u001b[0m \u001b[1;33m\u001b[0m\u001b[0m\n\u001b[0;32m     20\u001b[0m \u001b[1;32mfor\u001b[0m \u001b[0mi\u001b[0m \u001b[1;32min\u001b[0m \u001b[0mrange\u001b[0m\u001b[1;33m(\u001b[0m\u001b[1;36m196\u001b[0m\u001b[1;33m)\u001b[0m\u001b[1;33m:\u001b[0m\u001b[1;33m\u001b[0m\u001b[1;33m\u001b[0m\u001b[0m\n\u001b[1;32m---> 21\u001b[1;33m     \u001b[0mj\u001b[0m \u001b[1;33m=\u001b[0m \u001b[0mdf3\u001b[0m\u001b[1;33m.\u001b[0m\u001b[0miloc\u001b[0m\u001b[1;33m[\u001b[0m\u001b[0mi\u001b[0m\u001b[1;33m]\u001b[0m\u001b[1;33m\u001b[0m\u001b[1;33m\u001b[0m\u001b[0m\n\u001b[0m\u001b[0;32m     22\u001b[0m     \u001b[1;31m#print(j)\u001b[0m\u001b[1;33m\u001b[0m\u001b[1;33m\u001b[0m\u001b[1;33m\u001b[0m\u001b[0m\n\u001b[0;32m     23\u001b[0m     \u001b[0mt\u001b[0m \u001b[1;33m=\u001b[0m \u001b[0mdf2\u001b[0m\u001b[1;33m.\u001b[0m\u001b[0miloc\u001b[0m\u001b[1;33m[\u001b[0m\u001b[1;36m0\u001b[0m\u001b[1;33m]\u001b[0m\u001b[1;33m\u001b[0m\u001b[1;33m\u001b[0m\u001b[0m\n",
      "\u001b[1;32mC:\\ProgramData\\Anaconda3\\envs\\testAI\\lib\\site-packages\\pandas\\core\\indexing.py\u001b[0m in \u001b[0;36m__getitem__\u001b[1;34m(self, key)\u001b[0m\n\u001b[0;32m    893\u001b[0m \u001b[1;33m\u001b[0m\u001b[0m\n\u001b[0;32m    894\u001b[0m             \u001b[0mmaybe_callable\u001b[0m \u001b[1;33m=\u001b[0m \u001b[0mcom\u001b[0m\u001b[1;33m.\u001b[0m\u001b[0mapply_if_callable\u001b[0m\u001b[1;33m(\u001b[0m\u001b[0mkey\u001b[0m\u001b[1;33m,\u001b[0m \u001b[0mself\u001b[0m\u001b[1;33m.\u001b[0m\u001b[0mobj\u001b[0m\u001b[1;33m)\u001b[0m\u001b[1;33m\u001b[0m\u001b[1;33m\u001b[0m\u001b[0m\n\u001b[1;32m--> 895\u001b[1;33m             \u001b[1;32mreturn\u001b[0m \u001b[0mself\u001b[0m\u001b[1;33m.\u001b[0m\u001b[0m_getitem_axis\u001b[0m\u001b[1;33m(\u001b[0m\u001b[0mmaybe_callable\u001b[0m\u001b[1;33m,\u001b[0m \u001b[0maxis\u001b[0m\u001b[1;33m=\u001b[0m\u001b[0maxis\u001b[0m\u001b[1;33m)\u001b[0m\u001b[1;33m\u001b[0m\u001b[1;33m\u001b[0m\u001b[0m\n\u001b[0m\u001b[0;32m    896\u001b[0m \u001b[1;33m\u001b[0m\u001b[0m\n\u001b[0;32m    897\u001b[0m     \u001b[1;32mdef\u001b[0m \u001b[0m_is_scalar_access\u001b[0m\u001b[1;33m(\u001b[0m\u001b[0mself\u001b[0m\u001b[1;33m,\u001b[0m \u001b[0mkey\u001b[0m\u001b[1;33m:\u001b[0m \u001b[0mTuple\u001b[0m\u001b[1;33m)\u001b[0m\u001b[1;33m:\u001b[0m\u001b[1;33m\u001b[0m\u001b[1;33m\u001b[0m\u001b[0m\n",
      "\u001b[1;32mC:\\ProgramData\\Anaconda3\\envs\\testAI\\lib\\site-packages\\pandas\\core\\indexing.py\u001b[0m in \u001b[0;36m_getitem_axis\u001b[1;34m(self, key, axis)\u001b[0m\n\u001b[0;32m   1499\u001b[0m \u001b[1;33m\u001b[0m\u001b[0m\n\u001b[0;32m   1500\u001b[0m             \u001b[1;31m# validate the location\u001b[0m\u001b[1;33m\u001b[0m\u001b[1;33m\u001b[0m\u001b[1;33m\u001b[0m\u001b[0m\n\u001b[1;32m-> 1501\u001b[1;33m             \u001b[0mself\u001b[0m\u001b[1;33m.\u001b[0m\u001b[0m_validate_integer\u001b[0m\u001b[1;33m(\u001b[0m\u001b[0mkey\u001b[0m\u001b[1;33m,\u001b[0m \u001b[0maxis\u001b[0m\u001b[1;33m)\u001b[0m\u001b[1;33m\u001b[0m\u001b[1;33m\u001b[0m\u001b[0m\n\u001b[0m\u001b[0;32m   1502\u001b[0m \u001b[1;33m\u001b[0m\u001b[0m\n\u001b[0;32m   1503\u001b[0m             \u001b[1;32mreturn\u001b[0m \u001b[0mself\u001b[0m\u001b[1;33m.\u001b[0m\u001b[0mobj\u001b[0m\u001b[1;33m.\u001b[0m\u001b[0m_ixs\u001b[0m\u001b[1;33m(\u001b[0m\u001b[0mkey\u001b[0m\u001b[1;33m,\u001b[0m \u001b[0maxis\u001b[0m\u001b[1;33m=\u001b[0m\u001b[0maxis\u001b[0m\u001b[1;33m)\u001b[0m\u001b[1;33m\u001b[0m\u001b[1;33m\u001b[0m\u001b[0m\n",
      "\u001b[1;32mC:\\ProgramData\\Anaconda3\\envs\\testAI\\lib\\site-packages\\pandas\\core\\indexing.py\u001b[0m in \u001b[0;36m_validate_integer\u001b[1;34m(self, key, axis)\u001b[0m\n\u001b[0;32m   1442\u001b[0m         \u001b[0mlen_axis\u001b[0m \u001b[1;33m=\u001b[0m \u001b[0mlen\u001b[0m\u001b[1;33m(\u001b[0m\u001b[0mself\u001b[0m\u001b[1;33m.\u001b[0m\u001b[0mobj\u001b[0m\u001b[1;33m.\u001b[0m\u001b[0m_get_axis\u001b[0m\u001b[1;33m(\u001b[0m\u001b[0maxis\u001b[0m\u001b[1;33m)\u001b[0m\u001b[1;33m)\u001b[0m\u001b[1;33m\u001b[0m\u001b[1;33m\u001b[0m\u001b[0m\n\u001b[0;32m   1443\u001b[0m         \u001b[1;32mif\u001b[0m \u001b[0mkey\u001b[0m \u001b[1;33m>=\u001b[0m \u001b[0mlen_axis\u001b[0m \u001b[1;32mor\u001b[0m \u001b[0mkey\u001b[0m \u001b[1;33m<\u001b[0m \u001b[1;33m-\u001b[0m\u001b[0mlen_axis\u001b[0m\u001b[1;33m:\u001b[0m\u001b[1;33m\u001b[0m\u001b[1;33m\u001b[0m\u001b[0m\n\u001b[1;32m-> 1444\u001b[1;33m             \u001b[1;32mraise\u001b[0m \u001b[0mIndexError\u001b[0m\u001b[1;33m(\u001b[0m\u001b[1;34m\"single positional indexer is out-of-bounds\"\u001b[0m\u001b[1;33m)\u001b[0m\u001b[1;33m\u001b[0m\u001b[1;33m\u001b[0m\u001b[0m\n\u001b[0m\u001b[0;32m   1445\u001b[0m \u001b[1;33m\u001b[0m\u001b[0m\n\u001b[0;32m   1446\u001b[0m     \u001b[1;31m# -------------------------------------------------------------------\u001b[0m\u001b[1;33m\u001b[0m\u001b[1;33m\u001b[0m\u001b[1;33m\u001b[0m\u001b[0m\n",
      "\u001b[1;31mIndexError\u001b[0m: single positional indexer is out-of-bounds"
     ]
    }
   ],
   "metadata": {}
  },
  {
   "cell_type": "code",
   "execution_count": 24,
   "source": [
    "import pandas as pd\r\n",
    "\r\n",
    "df1 = pd.read_excel('./number.xlsx')\r\n",
    "df2 = df1.transpose()\r\n",
    "df3 = pd.read_excel('./cuisine1.xlsx')\r\n",
    "df4 = pd.read_excel('./output.xlsx')\r\n",
    "\r\n",
    "df4.rename(columns= {'Unnamed: 0':'cuisine'}, inplace = True)\r\n",
    "df4['cuisine']=df3['cuisine']\r\n",
    "print(df4)\r\n",
    "df2.to_excel('Ing_No.xlsx')\r\n",
    "df4.to_excel(\"output2.xlsx\")"
   ],
   "outputs": [
    {
     "output_type": "stream",
     "name": "stdout",
     "text": [
      "            cuisine      0      1      2      3      4      5      6      7  \\\n",
      "0       cream pasta   True   True   True   True   True   True   True   True   \n",
      "1       cream pasta  False   True   True   True  False   True  False   True   \n",
      "2       cream pasta   True   True   True   True   True   True   True  False   \n",
      "3       cream pasta  False   True   True   True   True   True   True  False   \n",
      "4       cream pasta  False   True   True   True  False   True  False  False   \n",
      "..              ...    ...    ...    ...    ...    ...    ...    ...    ...   \n",
      "190  cucumber sobak  False  False   True  False   True   True  False  False   \n",
      "191  cucumber sobak  False  False   True  False   True  False  False  False   \n",
      "192  cucumber sobak  False  False   True  False   True  False  False  False   \n",
      "193  cucumber sobak  False  False   True  False   True   True  False  False   \n",
      "194  cucumber sobak  False  False  False  False   True   True  False  False   \n",
      "\n",
      "         8  ...    240    241    242    243    244    245    246    247  \\\n",
      "0     True  ...  False  False  False  False  False  False  False  False   \n",
      "1     True  ...  False  False  False  False  False  False  False  False   \n",
      "2     True  ...  False  False  False  False  False  False  False  False   \n",
      "3     True  ...  False  False  False  False  False  False  False  False   \n",
      "4     True  ...  False  False  False  False  False  False  False  False   \n",
      "..     ...  ...    ...    ...    ...    ...    ...    ...    ...    ...   \n",
      "190  False  ...  False  False  False  False  False  False  False  False   \n",
      "191  False  ...  False  False  False  False  False  False  False  False   \n",
      "192  False  ...  False  False  False  False   True  False  False   True   \n",
      "193  False  ...  False  False  False  False  False  False  False  False   \n",
      "194  False  ...  False  False  False  False  False  False  False  False   \n",
      "\n",
      "       248    249  \n",
      "0    False  False  \n",
      "1    False  False  \n",
      "2    False  False  \n",
      "3    False  False  \n",
      "4    False  False  \n",
      "..     ...    ...  \n",
      "190  False  False  \n",
      "191  False  False  \n",
      "192   True  False  \n",
      "193  False  False  \n",
      "194  False   True  \n",
      "\n",
      "[195 rows x 251 columns]\n"
     ]
    }
   ],
   "metadata": {}
  }
 ],
 "metadata": {
  "orig_nbformat": 4,
  "language_info": {
   "name": "python",
   "version": "3.8.8",
   "mimetype": "text/x-python",
   "codemirror_mode": {
    "name": "ipython",
    "version": 3
   },
   "pygments_lexer": "ipython3",
   "nbconvert_exporter": "python",
   "file_extension": ".py"
  },
  "kernelspec": {
   "name": "python3",
   "display_name": "Python 3.8.8 64-bit ('testAI': conda)"
  },
  "interpreter": {
   "hash": "1276dac43cf275a3b107369540c81ab7e17d697431e2682c1fa9b85d8f46cd5c"
  }
 },
 "nbformat": 4,
 "nbformat_minor": 2
}
