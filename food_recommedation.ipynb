{
 "cells": [
  {
   "cell_type": "code",
   "execution_count": 14,
   "source": [
    "import surprise \r\n",
    "\r\n",
    "print(surprise.__version__)"
   ],
   "outputs": [
    {
     "output_type": "stream",
     "name": "stdout",
     "text": [
      "1.1.1\n"
     ]
    }
   ],
   "metadata": {}
  },
  {
   "cell_type": "markdown",
   "source": [
    "### Surprise 주요 모듈 소개"
   ],
   "metadata": {}
  },
  {
   "cell_type": "code",
   "execution_count": 15,
   "source": [
    "import pandas as pd\r\n",
    "from surprise import Dataset \r\n",
    "from surprise import SVD\r\n",
    "from surprise import Dataset \r\n",
    "from surprise import accuracy \r\n",
    "from surprise.model_selection import train_test_split\r\n",
    "\r\n",
    "ratings = pd.read_excel('./train_data.xlsx')\r\n",
    "# ratings_noh.csv 파일로 unload 시 index 와 header를 모두 제거한 새로운 파일 생성.  \r\n",
    "ratings.to_csv('./train_data_noh.csv', index=False, header=False)\r\n",
    "# rating -> output으로"
   ],
   "outputs": [],
   "metadata": {}
  },
  {
   "cell_type": "code",
   "execution_count": 16,
   "source": [
    "from surprise import Reader\r\n",
    "#user ingredient cuisine\r\n",
    "reader = Reader(line_format='user rating item', sep=',', rating_scale=(0.5, 5))\r\n",
    "data=Dataset.load_from_file('./train_data_noh.csv',reader=reader)\r\n",
    "# user item rating timestamp -> user cuisine "
   ],
   "outputs": [],
   "metadata": {}
  },
  {
   "cell_type": "code",
   "execution_count": 17,
   "source": [
    "trainset, testset = train_test_split(data, test_size=.25, random_state=0)\r\n",
    "\r\n",
    "# 수행시마다 동일한 결과 도출을 위해 random_state 설정 \r\n",
    "algo = SVD(n_factors=50, random_state=0)\r\n",
    "\r\n",
    "# 학습 데이터 세트로 학습 후 테스트 데이터 세트로 평점 예측 후 RMSE 평가\r\n",
    "algo.fit(trainset) \r\n",
    "predictions = algo.test( testset )\r\n",
    "accuracy.rmse(predictions)\r\n"
   ],
   "outputs": [
    {
     "output_type": "stream",
     "name": "stdout",
     "text": [
      "RMSE: 110.5015\n"
     ]
    },
    {
     "output_type": "execute_result",
     "data": {
      "text/plain": [
       "110.50154676172951"
      ]
     },
     "metadata": {},
     "execution_count": 17
    }
   ],
   "metadata": {}
  },
  {
   "cell_type": "markdown",
   "source": [
    "### 교차 검증(Cross Validation)과 하이퍼 파라미터 튜닝"
   ],
   "metadata": {}
  },
  {
   "cell_type": "code",
   "execution_count": 18,
   "source": [
    "from surprise.model_selection import cross_validate \r\n",
    "\r\n",
    "# Pandas DataFrame에서 Surprise Dataset으로 데이터 로딩 \r\n",
    "ratings = pd.read_excel('./train_data.xlsx') # reading data in pandas df\r\n",
    "reader = Reader(line_format='user rating item', sep=',', rating_scale=(0.5, 5))\r\n",
    "data=Dataset.load_from_file('./train_data_noh.csv',reader=reader)\r\n",
    "\r\n",
    "algo = SVD(random_state=0) \r\n",
    "cross_validate(algo, data, measures=['RMSE', 'MAE'], cv=5, verbose=True) "
   ],
   "outputs": [
    {
     "output_type": "stream",
     "name": "stdout",
     "text": [
      "Evaluating RMSE, MAE of algorithm SVD on 5 split(s).\n",
      "\n",
      "                  Fold 1  Fold 2  Fold 3  Fold 4  Fold 5  Mean    Std     \n",
      "RMSE (testset)    102.6295110.4061103.2428110.1301112.4868107.77914.0420  \n",
      "MAE (testset)     86.0513 95.7179 87.5897 91.6154 99.7949 92.1538 5.0882  \n",
      "Fit time          0.01    0.01    0.01    0.01    0.01    0.01    0.00    \n",
      "Test time         0.00    0.00    0.00    0.00    0.00    0.00    0.00    \n"
     ]
    },
    {
     "output_type": "execute_result",
     "data": {
      "text/plain": [
       "{'test_rmse': array([102.62953041, 110.40612673, 103.24280567, 110.13010953,\n",
       "        112.48680834]),\n",
       " 'test_mae': array([86.05128205, 95.71794872, 87.58974359, 91.61538462, 99.79487179]),\n",
       " 'fit_time': (0.009947061538696289,\n",
       "  0.00997304916381836,\n",
       "  0.009973287582397461,\n",
       "  0.009973526000976562,\n",
       "  0.008975744247436523),\n",
       " 'test_time': (0.0, 0.0, 0.0, 0.0, 0.0009975433349609375)}"
      ]
     },
     "metadata": {},
     "execution_count": 18
    }
   ],
   "metadata": {}
  },
  {
   "cell_type": "code",
   "execution_count": 19,
   "source": [
    "from surprise.model_selection import GridSearchCV\r\n",
    "\r\n",
    "# 최적화할 파라미터들을 딕셔너리 형태로 지정. \r\n",
    "param_grid = {'n_epochs': [20, 40, 60], 'n_factors': [50, 100, 200] }\r\n",
    "\r\n",
    "# CV를 3개 폴드 세트로 지정, 성능 평가는 rmse, mse 로 수행 하도록 GridSearchCV 구성\r\n",
    "gs = GridSearchCV(SVD, param_grid, measures=['rmse', 'mae'], cv=3)\r\n",
    "gs.fit(data)\r\n",
    "\r\n",
    "# 최고 RMSE Evaluation 점수와 그때의 하이퍼 파라미터\r\n",
    "print(gs.best_score['rmse'])\r\n",
    "print(gs.best_params['rmse'])"
   ],
   "outputs": [
    {
     "output_type": "stream",
     "name": "stdout",
     "text": [
      "107.78159032539288\n",
      "{'n_epochs': 20, 'n_factors': 50}\n"
     ]
    }
   ],
   "metadata": {}
  },
  {
   "cell_type": "markdown",
   "source": [
    "### Surprise 를 이용한 개인화 영화 추천 시스템 구축"
   ],
   "metadata": {}
  },
  {
   "cell_type": "code",
   "execution_count": 20,
   "source": [
    "# 아래 코드는 train_test_split( )으로 분리되지 않는 Dataset에 fit( )을 호출하여 오류를 발생합니다.\r\n",
    "reader = Reader(line_format='user rating item', sep=',', rating_scale=(0.5, 5))\r\n",
    "data=Dataset.load_from_file('./train_data_noh.csv',reader=reader)\r\n",
    "algo = SVD(n_factors=50, random_state=0)\r\n",
    "algo.fit(data)\r\n"
   ],
   "outputs": [
    {
     "output_type": "error",
     "ename": "AttributeError",
     "evalue": "'DatasetAutoFolds' object has no attribute 'global_mean'",
     "traceback": [
      "\u001b[1;31m---------------------------------------------------------------------------\u001b[0m",
      "\u001b[1;31mAttributeError\u001b[0m                            Traceback (most recent call last)",
      "\u001b[1;32m<ipython-input-20-00a9c69865f3>\u001b[0m in \u001b[0;36m<module>\u001b[1;34m\u001b[0m\n\u001b[0;32m      3\u001b[0m \u001b[0mdata\u001b[0m\u001b[1;33m=\u001b[0m\u001b[0mDataset\u001b[0m\u001b[1;33m.\u001b[0m\u001b[0mload_from_file\u001b[0m\u001b[1;33m(\u001b[0m\u001b[1;34m'./train_data_noh.csv'\u001b[0m\u001b[1;33m,\u001b[0m\u001b[0mreader\u001b[0m\u001b[1;33m=\u001b[0m\u001b[0mreader\u001b[0m\u001b[1;33m)\u001b[0m\u001b[1;33m\u001b[0m\u001b[1;33m\u001b[0m\u001b[0m\n\u001b[0;32m      4\u001b[0m \u001b[0malgo\u001b[0m \u001b[1;33m=\u001b[0m \u001b[0mSVD\u001b[0m\u001b[1;33m(\u001b[0m\u001b[0mn_factors\u001b[0m\u001b[1;33m=\u001b[0m\u001b[1;36m50\u001b[0m\u001b[1;33m,\u001b[0m \u001b[0mrandom_state\u001b[0m\u001b[1;33m=\u001b[0m\u001b[1;36m0\u001b[0m\u001b[1;33m)\u001b[0m\u001b[1;33m\u001b[0m\u001b[1;33m\u001b[0m\u001b[0m\n\u001b[1;32m----> 5\u001b[1;33m \u001b[0malgo\u001b[0m\u001b[1;33m.\u001b[0m\u001b[0mfit\u001b[0m\u001b[1;33m(\u001b[0m\u001b[0mdata\u001b[0m\u001b[1;33m)\u001b[0m\u001b[1;33m\u001b[0m\u001b[1;33m\u001b[0m\u001b[0m\n\u001b[0m",
      "\u001b[1;32m~\\Anaconda3\\envs\\food21\\lib\\site-packages\\surprise\\prediction_algorithms\\matrix_factorization.pyx\u001b[0m in \u001b[0;36msurprise.prediction_algorithms.matrix_factorization.SVD.fit\u001b[1;34m()\u001b[0m\n",
      "\u001b[1;32m~\\Anaconda3\\envs\\food21\\lib\\site-packages\\surprise\\prediction_algorithms\\matrix_factorization.pyx\u001b[0m in \u001b[0;36msurprise.prediction_algorithms.matrix_factorization.SVD.sgd\u001b[1;34m()\u001b[0m\n",
      "\u001b[1;31mAttributeError\u001b[0m: 'DatasetAutoFolds' object has no attribute 'global_mean'"
     ]
    }
   ],
   "metadata": {}
  },
  {
   "cell_type": "code",
   "execution_count": 21,
   "source": [
    "from surprise.dataset import DatasetAutoFolds\r\n",
    "\r\n",
    "reader = Reader(line_format='user rating item', sep=',', rating_scale=(0.5, 5))\r\n",
    "# DatasetAutoFolds 클래스를 ratings_noh.csv 파일 기반으로 생성. \r\n",
    "data_folds=Dataset.load_from_file('./train_data_noh.csv',reader=reader)\r\n",
    "\r\n",
    "#전체 데이터를 학습데이터로 생성함. \r\n",
    "trainset = data_folds.build_full_trainset()\r\n"
   ],
   "outputs": [],
   "metadata": {}
  },
  {
   "cell_type": "code",
   "execution_count": 22,
   "source": [
    "algo = SVD(n_epochs=20, n_factors=50, random_state=0)\r\n",
    "algo.fit(trainset)\r\n"
   ],
   "outputs": [
    {
     "output_type": "execute_result",
     "data": {
      "text/plain": [
       "<surprise.prediction_algorithms.matrix_factorization.SVD at 0x167fae001f0>"
      ]
     },
     "metadata": {},
     "execution_count": 22
    }
   ],
   "metadata": {}
  },
  {
   "cell_type": "code",
   "execution_count": 23,
   "source": [
    "# 영화에 대한 상세 속성 정보 DataFrame로딩\r\n",
    "cuisines = pd.read_excel('./cuisine.xlsx')\r\n",
    "# userId=9 의 movieId 데이터 추출하여 movieId=42 데이터가 있는지 확인. \r\n",
    "cuisinesIds = ratings[ratings['user']==1]['cuisineid']\r\n",
    "if cuisinesIds[cuisinesIds==42].count() == 0:\r\n",
    "    print('사용자 아이디 1는 영화 아이디 42의 평점 없음')\r\n",
    "else:\r\n",
    "    print('done')\r\n",
    "\r\n",
    "print(cuisines[cuisines['cuisineid']==42])\r\n"
   ],
   "outputs": [
    {
     "output_type": "stream",
     "name": "stdout",
     "text": [
      "done\n",
      "    cuisineid  user          cuisine ingredients ingredients.1 ingredients.2  \\\n",
      "42         42     1  Egg fried rice4         egg          rice   green onion   \n",
      "\n",
      "   ingredients.3 ingredients.4 ingredients.5 ingredients.6  ... ingredients.9  \\\n",
      "42    sesame oil  oyster sauce        pepper           NaN  ...           NaN   \n",
      "\n",
      "   ingredients.10 ingredients.11 ingredients.12 ingredients.13 ingredients.14  \\\n",
      "42            NaN            NaN            NaN            NaN            NaN   \n",
      "\n",
      "   ingredients.15 ingredients.16 ingredients.17 ingredients.18  \n",
      "42            NaN            NaN            NaN            NaN  \n",
      "\n",
      "[1 rows x 22 columns]\n"
     ]
    }
   ],
   "metadata": {}
  },
  {
   "cell_type": "code",
   "execution_count": 24,
   "source": [
    "uid = str(1)\r\n",
    "iid = str(42)\r\n",
    "\r\n",
    "pred = algo.predict(uid, iid, verbose=True)\r\n"
   ],
   "outputs": [
    {
     "output_type": "stream",
     "name": "stdout",
     "text": [
      "user: 1          item: 42         r_ui = None   est = 5.00   {'was_impossible': False}\n"
     ]
    }
   ],
   "metadata": {}
  },
  {
   "cell_type": "code",
   "execution_count": 27,
   "source": [
    "def get_unseen_surprise(ratings, cuisine, user):\r\n",
    "    #입력값으로 들어온 userId에 해당하는 사용자가 평점을 매긴 모든 영화를 리스트로 생성\r\n",
    "    seen_cuisines = ratings[ratings['user']== user]['cuisineid'].tolist()\r\n",
    "    \r\n",
    "    # 모든 영화들의 movieId를 리스트로 생성. \r\n",
    "    total_cuisines = cuisines['cuisineid'].tolist()\r\n",
    "    \r\n",
    "    # 모든 영화들의 movieId중 이미 평점을 매긴 영화의 movieId를 제외하여 리스트로 생성\r\n",
    "    unseen_cuisines= [cuisine for cuisine in total_cuisines if cuisine not in seen_cuisines]\r\n",
    "    print('평점 매긴 음식수:',len(seen_cuisines), '추천대상 음식수:',len(unseen_cuisines), \\\r\n",
    "          '전체 음식수:',len(total_cuisines))\r\n",
    "    \r\n",
    "    return unseen_cuisines\r\n",
    "\r\n",
    "unseen_cuisines = get_unseen_surprise(ratings, cuisines, 9)"
   ],
   "outputs": [
    {
     "output_type": "stream",
     "name": "stdout",
     "text": [
      "평점 매긴 음식수: 0 추천대상 음식수: 195 전체 음식수: 195\n"
     ]
    }
   ],
   "metadata": {}
  },
  {
   "cell_type": "code",
   "execution_count": 30,
   "source": [
    "def recomm_movie_by_surprise(algo, user, unseen_cuisines, top_n=10):\r\n",
    "    # 알고리즘 객체의 predict() 메서드를 평점이 없는 영화에 반복 수행한 후 결과를 list 객체로 저장\r\n",
    "    predictions = [algo.predict(str(user), str(cuisineid)) for cuisineid in unseen_cuisines]\r\n",
    "    \r\n",
    "    # predictions list 객체는 surprise의 Predictions 객체를 원소로 가지고 있음.\r\n",
    "    # [Prediction(uid='9', iid='1', est=3.69), Prediction(uid='9', iid='2', est=2.98),,,,]\r\n",
    "    # 이를 est 값으로 정렬하기 위해서 아래의 sortkey_est 함수를 정의함.\r\n",
    "    # sortkey_est 함수는 list 객체의 sort() 함수의 키 값으로 사용되어 정렬 수행.\r\n",
    "    def sortkey_est(pred):\r\n",
    "        return pred.est\r\n",
    "    \r\n",
    "    # sortkey_est( ) 반환값의 내림 차순으로 정렬 수행하고 top_n개의 최상위 값 추출.\r\n",
    "    predictions.sort(key=sortkey_est, reverse=True)\r\n",
    "    top_predictions= predictions[:top_n]\r\n",
    "    \r\n",
    "    # top_n으로 추출된 영화의 정보 추출. 영화 아이디, 추천 예상 평점, 제목 추출\r\n",
    "    top_cuisine_ids = [ int(pred.iid) for pred in top_predictions]\r\n",
    "    top_cuisine_rating = [ pred.est for pred in top_predictions]\r\n",
    "    top_cuisine_titles = cuisines[cuisines.cuisine.isin(top_cuisine_ids)]['cuisineid']\r\n",
    "    top_cuisine_preds = [ (id, title, rating) for id, title, rating in zip(top_cuisine_ids, top_cuisine_titles, top_cuisine_rating)]\r\n",
    "    \r\n",
    "    return top_cuisine_preds\r\n",
    "\r\n",
    "unseen_cuisines = get_unseen_surprise(ratings, cuisines, 9)\r\n",
    "top_cuisine_preds = recomm_movie_by_surprise(algo, 9, unseen_cuisines, top_n=10)\r\n",
    "print('##### Top-10 추천 음식 리스트 #####')\r\n",
    "\r\n",
    "for top_cuisines in top_cuisine_preds:\r\n",
    "    print(top_cuisines[1], \":\", top_cuisines[2])"
   ],
   "outputs": [
    {
     "output_type": "stream",
     "name": "stdout",
     "text": [
      "평점 매긴 음식수: 0 추천대상 음식수: 195 전체 음식수: 195\n",
      "##### Top-10 추천 음식 리스트 #####\n"
     ]
    }
   ],
   "metadata": {}
  }
 ],
 "metadata": {
  "kernelspec": {
   "name": "python3",
   "display_name": "Python 3.8.8 64-bit ('food21': conda)"
  },
  "language_info": {
   "codemirror_mode": {
    "name": "ipython",
    "version": 3
   },
   "file_extension": ".py",
   "mimetype": "text/x-python",
   "name": "python",
   "nbconvert_exporter": "python",
   "pygments_lexer": "ipython3",
   "version": "3.8.8"
  },
  "interpreter": {
   "hash": "15c5773711d1d3c78d6025d9cd9544ee54f7145b5a24fc1a3d4f4cb8f3123b3b"
  }
 },
 "nbformat": 4,
 "nbformat_minor": 2
}